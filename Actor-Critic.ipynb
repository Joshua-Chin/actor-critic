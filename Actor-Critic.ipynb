{
 "cells": [
  {
   "cell_type": "code",
   "execution_count": 1,
   "metadata": {
    "collapsed": false
   },
   "outputs": [
    {
     "name": "stderr",
     "output_type": "stream",
     "text": [
      "Using TensorFlow backend.\n"
     ]
    }
   ],
   "source": [
    "%matplotlib inline\n",
    "import matplotlib.pyplot as plt\n",
    "\n",
    "import numpy as np\n",
    "from scipy.signal import lfilter\n",
    "import tensorflow as tf\n",
    "import gym\n",
    "from gym import wrappers\n",
    "\n",
    "from keras.models import Model\n",
    "from keras.layers import Input, Dense, merge\n",
    "import keras.backend as K\n",
    "\n",
    "from tqdm import tnrange, tqdm_notebook"
   ]
  },
  {
   "cell_type": "code",
   "execution_count": 2,
   "metadata": {
    "collapsed": true
   },
   "outputs": [],
   "source": [
    "def main(env, agent, steps=100000, plot=True):\n",
    "    try:\n",
    "        total_rewards = []\n",
    "        total_reward = 0\n",
    "        reset = True\n",
    "        for step in tnrange(steps):\n",
    "            if reset:\n",
    "                obs = env.reset()\n",
    "                agent.reset()\n",
    "                \n",
    "                total_rewards.append(total_reward)\n",
    "                total_reward = 0\n",
    "            \n",
    "            action = agent.action(obs)\n",
    "            new_obs, reward, reset, info = env.step(action)\n",
    "            agent.observe(obs, action, reward, reset, new_obs)\n",
    "            \n",
    "            obs = new_obs\n",
    "            total_reward += reward\n",
    "        plt.plot(total_rewards)\n",
    "    finally:\n",
    "        env.close()"
   ]
  },
  {
   "cell_type": "code",
   "execution_count": 3,
   "metadata": {
    "collapsed": true
   },
   "outputs": [],
   "source": [
    "class RandomAgent(object):\n",
    "    def __init__(self, env): self.env = env\n",
    "    def action(self, obs): return self.env.action_space.sample()\n",
    "    def reset(self): pass\n",
    "    def observe(self, *args): pass"
   ]
  },
  {
   "cell_type": "code",
   "execution_count": 4,
   "metadata": {
    "collapsed": true
   },
   "outputs": [],
   "source": [
    "class ActorCriticAgent(object):\n",
    "    \n",
    "    def __init__(self, env, discount=0.95, batchsize=32):\n",
    "        self.discount = discount\n",
    "        self.batchsize = batchsize\n",
    "        model = discrete_model(env)\n",
    "        self.policy = DiscretePolicy(model)\n",
    "        model = value_model(env)\n",
    "        self.value = ValueFunction(model)\n",
    "        self.rollout = Rollout()\n",
    "    \n",
    "    def action(self, obs):\n",
    "        return self.policy.action(obs)\n",
    "        \n",
    "    def observe(self, obs, action, reward, done, new_obs):\n",
    "        self.rollout.observe(obs, action, reward, done, new_obs)\n",
    "        if len(self.rollout) >= self.batchsize:\n",
    "            self.process_rollout()\n",
    "    \n",
    "    def reset(self):\n",
    "        if len(self.rollout):\n",
    "            self.process_rollout()\n",
    "        \n",
    "    def process_rollout(self):\n",
    "        rollout = self.rollout\n",
    "        self.rollout = Rollout()\n",
    "        \n",
    "        obs = rollout.obs\n",
    "        action = rollout.action\n",
    "        reward = rollout.reward\n",
    "        done = rollout.done[-1]\n",
    "        terminal_value = self.value(rollout.new_obs[-1]) if not done else 0\n",
    "        reward.append(terminal_value)\n",
    "        reward = discount_rewards(reward, self.discount)\n",
    "        reward = reward[:-1]\n",
    "        \n",
    "        obs = np.asarray(obs)\n",
    "        action = np.asarray(action).reshape((-1, 1))\n",
    "        reward = np.asarray(reward).reshape((-1, 1))\n",
    "        \n",
    "        advantage = reward - self.value.batch(obs)\n",
    "        self.policy.fit(obs, action, advantage)\n",
    "        self.value.fit(obs, reward)"
   ]
  },
  {
   "cell_type": "code",
   "execution_count": 5,
   "metadata": {
    "collapsed": true
   },
   "outputs": [],
   "source": [
    "def discount_rewards(rewards, discount):\n",
    "    discounted_rewards = []\n",
    "    discounted_reward = 0\n",
    "    for reward in rewards[::-1]:\n",
    "        discounted_reward = reward + discount * discounted_reward\n",
    "        discounted_rewards.append(discounted_reward)\n",
    "    return discounted_rewards[::-1]"
   ]
  },
  {
   "cell_type": "code",
   "execution_count": 6,
   "metadata": {
    "collapsed": true
   },
   "outputs": [],
   "source": [
    "class ValueFunction(object):\n",
    "    \n",
    "    def __init__(self, model, optimizer='rmsprop'):\n",
    "        model.compile(loss='mse', optimizer=optimizer)\n",
    "        self.model = model\n",
    "        \n",
    "    def __call__(self, obs):\n",
    "        obs = np.asarray(obs)\n",
    "        obs = np.expand_dims(obs, 0)\n",
    "        value = self.model.predict_on_batch(obs)\n",
    "        return value[0]\n",
    "    \n",
    "    def batch(self, obs):\n",
    "        obs = np.asarray(obs)\n",
    "        value = self.model.predict_on_batch(obs)\n",
    "        return value\n",
    "    \n",
    "    def fit(self, obs, reward):\n",
    "        return self.model.train_on_batch(obs, reward)"
   ]
  },
  {
   "cell_type": "code",
   "execution_count": 7,
   "metadata": {
    "collapsed": true
   },
   "outputs": [],
   "source": [
    "def value_model(env):\n",
    "    obs_shape = env.observation_space.shape\n",
    "    if len(obs_shape) > 1:\n",
    "        raise NotImplementedError()\n",
    "    obs = Input(name='observation', shape=obs_shape)\n",
    "    hidden = Dense(20, activation='tanh')(obs)\n",
    "    value = Dense(1)(hidden)\n",
    "    model = Model(input=obs, output=value)\n",
    "    return model"
   ]
  },
  {
   "cell_type": "code",
   "execution_count": 8,
   "metadata": {
    "collapsed": true
   },
   "outputs": [],
   "source": [
    "class Rollout(object):\n",
    "    \n",
    "    def __init__(self):\n",
    "        self.obs = []\n",
    "        self.action = []\n",
    "        self.reward = []\n",
    "        self.done = []\n",
    "        self.new_obs = []\n",
    "    \n",
    "    def observe(self, obs, action, reward, done, new_obs):\n",
    "        self.obs.append(obs)\n",
    "        self.action.append(action)\n",
    "        self.reward.append(reward)\n",
    "        self.done.append(done)\n",
    "        self.new_obs.append(new_obs)\n",
    "        \n",
    "    def __len__(self):\n",
    "        return len(self.obs)"
   ]
  },
  {
   "cell_type": "code",
   "execution_count": 9,
   "metadata": {
    "collapsed": true
   },
   "outputs": [],
   "source": [
    "class DiscretePolicy(object):\n",
    "    \n",
    "    def __init__(self, model, optimizer='rmsprop'):\n",
    "        obs = model.input\n",
    "        proba = model.output\n",
    "        action = Input(name='action', shape=(1,), dtype='int32')\n",
    "        action_proba = merge([action, proba], mode=merge_action_proba, output_shape=(1,))\n",
    "        fit_model = Model(input=[obs, action], output=action_proba)\n",
    "        fit_model.compile(optimizer=optimizer, loss=policy_loss)\n",
    "        \n",
    "        self.fit_model = fit_model\n",
    "        self.predict_model = model\n",
    "        \n",
    "    def action(self, obs):\n",
    "        obs = np.asarray(obs)\n",
    "        obs = np.expand_dims(obs, 0)\n",
    "        proba = self.predict_model.predict_on_batch(obs)[0]\n",
    "        action = np.random.choice(len(proba), p=proba)\n",
    "        return action\n",
    "    \n",
    "    def fit(self, obs, action, advantage):\n",
    "        return self.fit_model.train_on_batch([obs, action], advantage)\n",
    "        \n",
    "def merge_action_proba(args):\n",
    "    action, proba = args\n",
    "    proba_shape = tf.shape(proba)\n",
    "    batchsize, actions = proba_shape[0], proba_shape[1]\n",
    "    flat_proba = tf.reshape(proba, [-1])\n",
    "    flat_action = tf.reshape(action, [-1])\n",
    "    offset = actions * tf.range(batchsize)\n",
    "    indices = flat_action + offset\n",
    "    flat_action_proba = tf.gather(flat_proba, indices)\n",
    "    action_proba = tf.expand_dims(flat_action_proba, -1)\n",
    "    return action_proba\n",
    "\n",
    "def policy_loss(advantage, action_proba):\n",
    "    advantage = tf.reshape(advantage, [-1])\n",
    "    action_proba = tf.reshape(action_proba, [-1])\n",
    "    gain = advantage * tf.log(action_proba)\n",
    "    loss = -gain\n",
    "    return loss"
   ]
  },
  {
   "cell_type": "code",
   "execution_count": 10,
   "metadata": {
    "collapsed": true
   },
   "outputs": [],
   "source": [
    "def discrete_model(env):\n",
    "    obs_shape = env.observation_space.shape\n",
    "    actions = env.action_space.n\n",
    "    if len(obs_shape) > 1:\n",
    "        raise NotImplementedError()\n",
    "        \n",
    "    obs = Input(name='observation', shape=obs_shape)\n",
    "    hidden = Dense(40, activation='tanh')(obs)\n",
    "    hidden = Dense(40, activation='tanh')(hidden)\n",
    "    proba = Dense(actions, activation='softmax')(hidden)\n",
    "    model = Model(input=obs, output=proba)\n",
    "    return model"
   ]
  },
  {
   "cell_type": "code",
   "execution_count": 11,
   "metadata": {
    "collapsed": false
   },
   "outputs": [
    {
     "name": "stderr",
     "output_type": "stream",
     "text": [
      "[2017-01-09 09:35:13,046] Making new env: CartPole-v1\n",
      "[2017-01-09 09:35:13,075] Attempted to wrap env <CartPoleEnv instance> after .configure() was called. All wrappers must be applied before calling .configure()\n",
      "[2017-01-09 09:35:13,077] Creating monitor directory tmp\n",
      "[2017-01-09 09:35:13,348] Starting new video recorder writing to /Users/joshuachin/Documents/actor-critic/tmp/openaigym.video.0.46141.video000000.mp4\n",
      "/Users/joshuachin/.python3-venv/lib/python3.6/site-packages/tensorflow/python/ops/gradients_impl.py:91: UserWarning: Converting sparse IndexedSlices to a dense Tensor of unknown shape. This may consume a large amount of memory.\n",
      "  \"Converting sparse IndexedSlices to a dense Tensor of unknown shape. \"\n",
      "[2017-01-09 09:35:16,375] Starting new video recorder writing to /Users/joshuachin/Documents/actor-critic/tmp/openaigym.video.0.46141.video000001.mp4\n",
      "[2017-01-09 09:35:17,193] Starting new video recorder writing to /Users/joshuachin/Documents/actor-critic/tmp/openaigym.video.0.46141.video000008.mp4\n",
      "[2017-01-09 09:35:18,567] Starting new video recorder writing to /Users/joshuachin/Documents/actor-critic/tmp/openaigym.video.0.46141.video000027.mp4\n",
      "[2017-01-09 09:35:19,868] Starting new video recorder writing to /Users/joshuachin/Documents/actor-critic/tmp/openaigym.video.0.46141.video000064.mp4\n",
      "[2017-01-09 09:35:22,480] Starting new video recorder writing to /Users/joshuachin/Documents/actor-critic/tmp/openaigym.video.0.46141.video000125.mp4\n",
      "[2017-01-09 09:35:29,489] Starting new video recorder writing to /Users/joshuachin/Documents/actor-critic/tmp/openaigym.video.0.46141.video000216.mp4\n",
      "[2017-01-09 09:35:46,289] Starting new video recorder writing to /Users/joshuachin/Documents/actor-critic/tmp/openaigym.video.0.46141.video000343.mp4\n",
      "[2017-01-09 09:36:11,490] Starting new video recorder writing to /Users/joshuachin/Documents/actor-critic/tmp/openaigym.video.0.46141.video000512.mp4\n",
      "[2017-01-09 09:36:39,599] Finished writing results. You can upload them to the scoreboard via gym.upload('/Users/joshuachin/Documents/actor-critic/tmp')\n"
     ]
    },
    {
     "name": "stdout",
     "output_type": "stream",
     "text": [
      "\n"
     ]
    },
    {
     "data": {
      "image/png": "[encoded data removed]",
      "text/plain": [
       "<matplotlib.figure.Figure at 0x116325550>"
      ]
     },
     "metadata": {},
     "output_type": "display_data"
    }
   ],
   "source": [
    "env = gym.make('CartPole-v1')\n",
    "env = wrappers.Monitor(env, 'tmp', force=True)\n",
    "agent = ActorCriticAgent(env)\n",
    "main(env, agent)"
   ]
  },
  {
   "cell_type": "code",
   "execution_count": null,
   "metadata": {
    "collapsed": false
   },
   "outputs": [],
   "source": []
  },
  {
   "cell_type": "code",
   "execution_count": null,
   "metadata": {
    "collapsed": true
   },
   "outputs": [],
   "source": []
  }
 ],
 "metadata": {
  "kernelspec": {
   "display_name": "Python 3",
   "language": "python",
   "name": "python3"
  },
  "language_info": {
   "codemirror_mode": {
    "name": "ipython",
    "version": 3
   },
   "file_extension": ".py",
   "mimetype": "text/x-python",
   "name": "python",
   "nbconvert_exporter": "python",
   "pygments_lexer": "ipython3",
   "version": "3.6.0"
  },
  "widgets": {
   "state": {
    "6f39327352d94a59ab5b512eb5ee701a": {
     "views": [
      {
       "cell_index": 10
      }
     ]
    }
   },
   "version": "1.2.0"
  }
 },
 "nbformat": 4,
 "nbformat_minor": 2
}
