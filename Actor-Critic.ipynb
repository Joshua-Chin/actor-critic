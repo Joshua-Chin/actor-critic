{
 "cells": [
  {
   "cell_type": "code",
   "execution_count": null,
   "metadata": {
    "collapsed": false
   },
   "outputs": [],
   "source": [
    "%matplotlib inline\n",
    "import matplotlib.pyplot as plt\n",
    "\n",
    "import numpy as np\n",
    "import tensorflow as tf\n",
    "import gym\n",
    "\n",
    "from keras.models import Model\n",
    "from keras.layers import Input, Dense, merge\n",
    "import keras.backend as K\n",
    "\n",
    "from tqdm import tnrange, tqdm_notebook"
   ]
  },
  {
   "cell_type": "code",
   "execution_count": null,
   "metadata": {
    "collapsed": true
   },
   "outputs": [],
   "source": [
    "def main(env, agent, steps=10000, plot=True):\n",
    "    try:\n",
    "        total_rewards = []\n",
    "        total_reward = 0\n",
    "        reset = True\n",
    "        for step in tnrange(steps):\n",
    "            if reset:\n",
    "                obs = env.reset()\n",
    "                agent.reset()\n",
    "                \n",
    "                total_rewards.append(total_reward)\n",
    "                total_reward = 0\n",
    "            \n",
    "            action = agent.action(obs)\n",
    "            new_obs, reward, reset, info = env.step(action)\n",
    "            agent.observe(obs, action, reward, reset, new_obs)\n",
    "            \n",
    "            obs = new_obs\n",
    "            total_reward += reward\n",
    "        plt.plot(total_rewards)\n",
    "    finally:\n",
    "        env.close()"
   ]
  },
  {
   "cell_type": "code",
   "execution_count": null,
   "metadata": {
    "collapsed": true
   },
   "outputs": [],
   "source": [
    "class RandomAgent(object):\n",
    "    def __init__(self, env): self.env = env\n",
    "    def action(self, obs): return self.env.action_space.sample()\n",
    "    def reset(self): pass\n",
    "    def observe(self, *args): pass"
   ]
  },
  {
   "cell_type": "code",
   "execution_count": null,
   "metadata": {
    "collapsed": true
   },
   "outputs": [],
   "source": [
    "class ActorCriticAgent(object):\n",
    "    \n",
    "    def __init__(self, env):\n",
    "        model = discrete_model(env)\n",
    "        self.policy = DiscretePolicy(model)\n",
    "        self.rollout = Rollout()\n",
    "    \n",
    "    def action(self, obs):\n",
    "        return self.policy.action(obs)\n",
    "        \n",
    "    def observe(self, obs, action, reward, done, new_obs):\n",
    "        self.rollout.observe(obs, action, reward, done, new_obs)\n",
    "    \n",
    "    def reset(self):\n",
    "        self.process_rollout()\n",
    "        \n",
    "    def process_rollout(self):\n",
    "        rollout = self.rollout\n",
    "        self.rollout = Rollout()"
   ]
  },
  {
   "cell_type": "code",
   "execution_count": null,
   "metadata": {
    "collapsed": true
   },
   "outputs": [],
   "source": [
    "class Rollout(object):\n",
    "    \n",
    "    def __init__(self):\n",
    "        self.obs = []\n",
    "        self.action = []\n",
    "        self.reward = []\n",
    "        self.done = []\n",
    "        self.new_obs = []\n",
    "    \n",
    "    def observe(self, obs, action, reward, done, new_obs):\n",
    "        self.obs.append(obs)\n",
    "        self.action.append(action)\n",
    "        self.reward.append(reward)\n",
    "        self.done.append(done)\n",
    "        self.new_obs.append(new_obs)\n",
    "        \n",
    "    def __len__(self):\n",
    "        return len(self.obs)"
   ]
  },
  {
   "cell_type": "code",
   "execution_count": null,
   "metadata": {
    "collapsed": true
   },
   "outputs": [],
   "source": [
    "class DiscretePolicy(object):\n",
    "    \n",
    "    def __init__(self, model, optimizer='rmsprop'):\n",
    "        obs = model.input\n",
    "        proba = model.output\n",
    "        action = Input(name='action', shape=(1,), dtype='int32')\n",
    "        action_proba = merge([action, proba], mode=merge_action_proba, output_shape=(1,))\n",
    "        fit_model = Model(input=[obs, action], output=action_proba)\n",
    "        fit_model.compile(optimizer=optimizer, loss=policy_loss)\n",
    "        \n",
    "        self.fit_model = fit_model\n",
    "        self.predict_model = model\n",
    "        \n",
    "    def action(self, obs):\n",
    "        obs = np.asarray([obs])\n",
    "        proba = self.predict_model.predict_on_batch(obs)[0]\n",
    "        action = np.random.choice(len(proba), p=proba)\n",
    "        return action\n",
    "    \n",
    "    def fit(self, obs, action, advantage):\n",
    "        self.fit_model.train_on_batch([obs, action], advantage)\n",
    "        \n",
    "def merge_action_proba(args):\n",
    "    action, proba = args\n",
    "    proba_shape = tf.shape(proba)\n",
    "    batchsize, actions = proba_shape[0], proba_shape[1]\n",
    "    flat_proba = tf.reshape(proba, [-1])\n",
    "    flat_action = tf.reshape(action, [-1])\n",
    "    offset = actions * tf.range(batchsize)\n",
    "    indices = flat_action + offset\n",
    "    flat_action_proba = tf.gather(flat_proba, indices)\n",
    "    action_proba = tf.expand_dims(flat_action_proba, -1)\n",
    "    return action_proba\n",
    "\n",
    "def policy_loss(advantage, action_proba):\n",
    "    advantage = tf.reshape(advantage, [-1])\n",
    "    action_proba = tf.reshape(action_proba, [-1])\n",
    "    gain = advantage * tf.log(action_proba)\n",
    "    loss = -gain\n",
    "    return loss"
   ]
  },
  {
   "cell_type": "code",
   "execution_count": null,
   "metadata": {
    "collapsed": true
   },
   "outputs": [],
   "source": [
    "def discrete_model(env):\n",
    "    obs_shape = env.observation_space.shape\n",
    "    actions = env.action_space.n\n",
    "    if len(obs_shape) > 1:\n",
    "        raise NotImplementedError()\n",
    "        \n",
    "    obs = Input(name='observation', shape=obs_shape)\n",
    "    hidden = Dense(40, activation='tanh')(obs)\n",
    "    hidden = Dense(40, activation='tanh')(hidden)\n",
    "    proba = Dense(actions, activation='softmax')(hidden)\n",
    "    model = Model(input=obs, output=proba)\n",
    "    return model"
   ]
  },
  {
   "cell_type": "code",
   "execution_count": null,
   "metadata": {
    "collapsed": false
   },
   "outputs": [],
   "source": [
    "env = gym.make('CartPole-v1')\n",
    "agent = ActorCriticAgent(env)\n",
    "main(env, agent)"
   ]
  },
  {
   "cell_type": "code",
   "execution_count": null,
   "metadata": {
    "collapsed": true
   },
   "outputs": [],
   "source": []
  }
 ],
 "metadata": {
  "kernelspec": {
   "display_name": "Python 3",
   "language": "python",
   "name": "python3"
  },
  "language_info": {
   "codemirror_mode": {
    "name": "ipython",
    "version": 3
   },
   "file_extension": ".py",
   "mimetype": "text/x-python",
   "name": "python",
   "nbconvert_exporter": "python",
   "pygments_lexer": "ipython3",
   "version": "3.6.0"
  }
 },
 "nbformat": 4,
 "nbformat_minor": 2
}
